{
 "cells": [
  {
   "cell_type": "markdown",
   "id": "5694d044-dd34-4174-b961-941003eb4d7e",
   "metadata": {},
   "source": [
    "# Setup StreetFighter\n"
   ]
  },
  {
   "cell_type": "code",
   "execution_count": 1,
   "id": "a9704bc0-a466-4cca-affa-962431bd91a5",
   "metadata": {},
   "outputs": [],
   "source": [
    "# Import retro to play Street Fighter using the rom.\n",
    "import retro\n",
    "\n",
    "# Import time to slow down game\n",
    "import time"
   ]
  },
  {
   "cell_type": "code",
   "execution_count": 2,
   "id": "93f76d34-a77a-48e2-af61-00c04d373159",
   "metadata": {},
   "outputs": [
    {
     "name": "stdout",
     "output_type": "stream",
     "text": [
      "StreetFighterIISpecialChampionEdition-Genesis\n"
     ]
    }
   ],
   "source": [
    "# See the different retro games\n",
    "for retro_game in retro.data.list_games():\n",
    "    if \"StreetFighter\" in retro_game:\n",
    "        print(retro_game)\n",
    "\n",
    "# To \"install\" the game into the gym-retro emulator, we need to use:\n",
    "# ! python -m retro.import <path-to-rom-folder>"
   ]
  },
  {
   "cell_type": "code",
   "execution_count": 3,
   "id": "289f27bd-0d3c-4c7f-b70c-0073c2a8d7b2",
   "metadata": {},
   "outputs": [],
   "source": [
    "# Can't have multiple retro environments open at once.\n",
    "try:\n",
    "    env.close()\n",
    "except:\n",
    "    pass\n",
    "\n",
    "# retro.make allows us to create an environment with the retro frameworke\n",
    "env = retro.make(game=\"StreetFighterIISpecialChampionEdition-Genesis\")\n"
   ]
  },
  {
   "cell_type": "code",
   "execution_count": 4,
   "id": "b1fa81cc-e913-4f7c-a98e-41fe87ac3083",
   "metadata": {
    "tags": []
   },
   "outputs": [
    {
     "data": {
      "text/plain": [
       "array([[[  7, 157, 185],\n",
       "        [179, 248,  11],\n",
       "        [164, 254, 157],\n",
       "        ...,\n",
       "        [ 49, 229, 181],\n",
       "        [127, 244, 168],\n",
       "        [255,  82,  76]],\n",
       "\n",
       "       [[248, 227, 133],\n",
       "        [163,  63, 169],\n",
       "        [ 15, 206, 121],\n",
       "        ...,\n",
       "        [212, 181,  42],\n",
       "        [117,  96, 219],\n",
       "        [219,   5,  67]],\n",
       "\n",
       "       [[254, 105, 206],\n",
       "        [ 85,  69, 157],\n",
       "        [229, 192, 175],\n",
       "        ...,\n",
       "        [ 98, 182, 220],\n",
       "        [164,  83, 173],\n",
       "        [198,  19, 180]],\n",
       "\n",
       "       ...,\n",
       "\n",
       "       [[120, 148, 238],\n",
       "        [137,  94, 238],\n",
       "        [223, 179,  55],\n",
       "        ...,\n",
       "        [ 92,   8, 241],\n",
       "        [ 74,  57,  80],\n",
       "        [ 20,  49,  38]],\n",
       "\n",
       "       [[ 80, 233, 183],\n",
       "        [ 87, 144,  59],\n",
       "        [183,  53, 191],\n",
       "        ...,\n",
       "        [ 77,  20, 171],\n",
       "        [229,  84,  81],\n",
       "        [ 38,  78, 115]],\n",
       "\n",
       "       [[ 62,  38,  30],\n",
       "        [254, 248,  28],\n",
       "        [150, 226, 245],\n",
       "        ...,\n",
       "        [186, 221, 146],\n",
       "        [ 25, 198, 134],\n",
       "        [ 32,  62,  81]]], dtype=uint8)"
      ]
     },
     "execution_count": 4,
     "metadata": {},
     "output_type": "execute_result"
    }
   ],
   "source": [
    "# The game frame\n",
    "env.observation_space.sample()"
   ]
  },
  {
   "cell_type": "code",
   "execution_count": 5,
   "id": "0f9cbd54-d2ea-4ce2-9557-65a22965b621",
   "metadata": {},
   "outputs": [
    {
     "data": {
      "text/plain": [
       "array([0, 0, 1, 0, 1, 0, 0, 0, 0, 0, 0, 0], dtype=int8)"
      ]
     },
     "execution_count": 5,
     "metadata": {},
     "output_type": "execute_result"
    }
   ],
   "source": [
    "# The action space is a 12-dimensional boolean vector representing button presses.\n",
    "env.action_space.sample()"
   ]
  },
  {
   "cell_type": "code",
   "execution_count": 6,
   "id": "0adc825b-d490-40da-83d3-7fb4b308f619",
   "metadata": {
    "tags": []
   },
   "outputs": [
    {
     "name": "stdout",
     "output_type": "stream",
     "text": [
      "500.0\n",
      "1000.0\n",
      "500.0\n",
      "1000.0\n",
      "100.0\n",
      "100.0\n",
      "500.0\n",
      "300.0\n",
      "100.0\n",
      "100.0\n",
      "100.0\n",
      "100.0\n",
      "100.0\n",
      "100.0\n",
      "1000.0\n",
      "1000.0\n",
      "1000.0\n",
      "100.0\n",
      "1000.0\n",
      "300.0\n",
      "500.0\n",
      "1000.0\n",
      "500.0\n",
      "500.0\n",
      "500.0\n",
      "1500.0\n",
      "100.0\n",
      "100.0\n",
      "100.0\n",
      "100.0\n",
      "100.0\n",
      "100.0\n",
      "100.0\n",
      "100.0\n",
      "100.0\n",
      "100.0\n",
      "100.0\n",
      "100.0\n",
      "100.0\n",
      "100.0\n",
      "100.0\n",
      "100.0\n",
      "100.0\n",
      "100.0\n",
      "100.0\n",
      "100.0\n",
      "100.0\n",
      "100.0\n",
      "100.0\n",
      "100.0\n",
      "100.0\n",
      "100.0\n",
      "100.0\n",
      "1000.0\n",
      "1000.0\n",
      "10000.0\n",
      "300.0\n",
      "500.0\n",
      "100.0\n",
      "500.0\n",
      "500.0\n",
      "1000.0\n",
      "500.0\n",
      "100.0\n",
      "1500.0\n",
      "100.0\n",
      "100.0\n",
      "100.0\n",
      "100.0\n",
      "100.0\n",
      "1000.0\n",
      "1000.0\n",
      "1000.0\n",
      "10000.0\n",
      "300.0\n",
      "500.0\n",
      "500.0\n",
      "500.0\n",
      "1000.0\n",
      "1500.0\n",
      "1000.0\n",
      "100.0\n",
      "100.0\n",
      "100.0\n",
      "100.0\n",
      "100.0\n",
      "100.0\n",
      "1000.0\n",
      "1000.0\n",
      "1000.0\n",
      "1000.0\n",
      "1000.0\n",
      "1000.0\n",
      "10000.0\n",
      "100.0\n",
      "500.0\n",
      "400.0\n",
      "500.0\n",
      "100.0\n",
      "100.0\n",
      "100.0\n",
      "100.0\n",
      "3000.0\n",
      "100.0\n",
      "100.0\n",
      "100.0\n",
      "100.0\n",
      "100.0\n",
      "100.0\n",
      "100.0\n",
      "100.0\n",
      "100.0\n",
      "100.0\n",
      "100.0\n",
      "1000.0\n",
      "1000.0\n",
      "1000.0\n",
      "1000.0\n",
      "1000.0\n",
      "1000.0\n",
      "1000.0\n",
      "300.0\n",
      "500.0\n",
      "500.0\n",
      "100.0\n",
      "100.0\n",
      "300.0\n",
      "300.0\n",
      "400.0\n",
      "100.0\n",
      "100.0\n",
      "100.0\n",
      "100.0\n",
      "100.0\n",
      "100.0\n",
      "100.0\n",
      "100.0\n",
      "1000.0\n",
      "1000.0\n",
      "1000.0\n",
      "1000.0\n",
      "1000.0\n",
      "1000.0\n",
      "1000.0\n",
      "500.0\n",
      "1000.0\n",
      "300.0\n",
      "500.0\n",
      "100.0\n",
      "100.0\n",
      "1000.0\n",
      "100.0\n",
      "1000.0\n",
      "500.0\n",
      "100.0\n",
      "500.0\n",
      "300.0\n",
      "1000.0\n",
      "500.0\n",
      "500.0\n",
      "100.0\n",
      "100.0\n",
      "3000.0\n",
      "100.0\n",
      "100.0\n",
      "100.0\n",
      "100.0\n",
      "100.0\n",
      "100.0\n",
      "100.0\n",
      "100.0\n",
      "100.0\n",
      "100.0\n",
      "100.0\n",
      "100.0\n",
      "100.0\n",
      "1000.0\n",
      "1000.0\n",
      "1000.0\n",
      "1000.0\n",
      "1000.0\n",
      "1000.0\n",
      "500.0\n",
      "400.0\n",
      "100.0\n"
     ]
    }
   ],
   "source": [
    "# Reset game to starting state.\n",
    "obs = env.reset()\n",
    "\n",
    "# Did we die/game over?\n",
    "done = False\n",
    "\n",
    "for game in range(1):\n",
    "    while not done:\n",
    "        if done:\n",
    "            obs = env.reset()\n",
    "        env.render()\n",
    "        obs, reward, done, info = env.step(env.action_space.sample())\n",
    "        # time.sleep(0.0003)\n",
    "        if reward > 0:\n",
    "            print(reward)"
   ]
  },
  {
   "cell_type": "code",
   "execution_count": 7,
   "id": "5fe71919-08b6-4252-a3ca-29978c4d2f8e",
   "metadata": {},
   "outputs": [
    {
     "data": {
      "text/plain": [
       "{'enemy_matches_won': 2,\n",
       " 'score': 111400,\n",
       " 'matches_won': 1,\n",
       " 'continuetimer': 10,\n",
       " 'enemy_health': 0,\n",
       " 'health': 0}"
      ]
     },
     "execution_count": 7,
     "metadata": {},
     "output_type": "execute_result"
    }
   ],
   "source": [
    "info"
   ]
  },
  {
   "cell_type": "markdown",
   "id": "ee95b787-c8d6-450f-8834-85e9f2e4cef6",
   "metadata": {},
   "source": [
    "# Setup Environment\n",
    "\n",
    "### What we are going to do\n",
    "1. Preprocess\n",
    "   - grayscale\n",
    "   - frame delta\n",
    "   - resize the frame so we have less pixels\n",
    "1. Filter the action parameter\n",
    "1. Reward Function - set this to the score"
   ]
  },
  {
   "cell_type": "code",
   "execution_count": 4,
   "id": "97d7156d-2a18-4f9e-9588-124f2f1234b3",
   "metadata": {},
   "outputs": [],
   "source": [
    "# Our base environment class\n",
    "from gym import Env\n",
    "# The Action-Space type; the space shapes for our environment\n",
    "from gym.spaces import MultiBinary, Box\n",
    "# To calculate the delta\n",
    "import numpy as np\n",
    "# For grayscaling our frame\n",
    "import cv2\n",
    "# for plotting frame\n",
    "from matplotlib import pyplot as plt"
   ]
  },
  {
   "cell_type": "code",
   "execution_count": 5,
   "id": "829e26f0-b736-4f69-9617-f413d7fde60e",
   "metadata": {},
   "outputs": [],
   "source": [
    "# Create custom environment\n",
    "class StreetFighter(Env):\n",
    "    def __init__(self):\n",
    "        super().__init__()\n",
    "        # Specify Action and Observation Spaces\n",
    "        self.observation_space = Box(low=0, high=255, shape=(84, 84, 1), dtype=np.uint8)\n",
    "        self.action_space = MultiBinary(12)\n",
    "        # Start up an instance of the game, only uses actions that are valid for this game.\n",
    "        self.game = retro.make(\n",
    "            game=\"StreetFighterIISpecialChampionEdition-Genesis\", \n",
    "            use_restricted_actions=retro.Actions.FILTERED,\n",
    "        )\n",
    "        \n",
    "    def reset(self):\n",
    "        # Reset to first frame\n",
    "        obs = self.game.reset()\n",
    "        obs = self.preprocess(obs)\n",
    "        self.previous_frame = obs\n",
    "        # Create an attribute to hold score delta\n",
    "        self.score = 0\n",
    "        return obs\n",
    "    \n",
    "    def preprocess(self, observation):\n",
    "        # Grayscale the observation\n",
    "        gray = cv2.cvtColor(observation, cv2.COLOR_BGR2GRAY)\n",
    "        # Resize the grayscaled observation using INTER_CUBE\n",
    "        # (bicubic interpolation) which acts on 4x4 neighboring pixels and uses\n",
    "        # an average of the 16 pixels to create a new interpolated pixel.\n",
    "        resize = cv2.resize(gray, (84, 84), interpolation=cv2.INTER_CUBIC)\n",
    "        # Add the channels value\n",
    "        channels = np.reshape(resize, (84, 84, 1))\n",
    "        return channels\n",
    "    \n",
    "    def step(self, action):\n",
    "        # Take a step\n",
    "        obs, reward, done, info = self.game.step(action)\n",
    "        obs = self.preprocess(obs)\n",
    "        \n",
    "        # Frame delta\n",
    "        frame_delta = obs - self.previous_frame\n",
    "        self.previous_frame = obs\n",
    "        \n",
    "        # Reshape the reward function\n",
    "        reward = info['score'] - self.score\n",
    "        self.score = info['score']\n",
    "        \n",
    "        return frame_delta, reward, done, info\n",
    "        \n",
    "    \n",
    "    def render(self, *args, **kwargs):\n",
    "        self.game.render()\n",
    "    \n",
    "    def close(self):\n",
    "        self.game.close()"
   ]
  },
  {
   "cell_type": "code",
   "execution_count": 6,
   "id": "a7227839-81d3-445c-8a2e-e6b68da274ac",
   "metadata": {},
   "outputs": [],
   "source": [
    "# Can't have multiple retro environments open at once.\n",
    "try:\n",
    "    env.close()\n",
    "except:\n",
    "    pass\n",
    "env = StreetFighter()"
   ]
  },
  {
   "cell_type": "code",
   "execution_count": 7,
   "id": "52c6a7c0-93fe-40d7-9fe8-61769104914c",
   "metadata": {},
   "outputs": [
    {
     "data": {
      "text/plain": [
       "(84, 84, 1)"
      ]
     },
     "execution_count": 7,
     "metadata": {},
     "output_type": "execute_result"
    }
   ],
   "source": [
    "env.observation_space.shape"
   ]
  },
  {
   "cell_type": "code",
   "execution_count": 8,
   "id": "32998b0c-d39f-4d60-b6c2-b7c9d773a4a1",
   "metadata": {},
   "outputs": [
    {
     "data": {
      "text/plain": [
       "(12,)"
      ]
     },
     "execution_count": 8,
     "metadata": {},
     "output_type": "execute_result"
    }
   ],
   "source": [
    "env.action_space.shape"
   ]
  },
  {
   "cell_type": "code",
   "execution_count": 9,
   "id": "299990e3-28cb-4e47-b703-bbded67092a0",
   "metadata": {
    "tags": []
   },
   "outputs": [
    {
     "name": "stdout",
     "output_type": "stream",
     "text": [
      "500\n",
      "1000\n",
      "100\n",
      "400\n",
      "100\n",
      "500\n",
      "500\n",
      "500\n",
      "1000\n",
      "300\n",
      "1000\n",
      "1000\n"
     ]
    }
   ],
   "source": [
    "# Reset game to starting state.\n",
    "obs = env.reset()\n",
    "\n",
    "# Did we die/game over?\n",
    "done = False\n",
    "\n",
    "for game in range(1):\n",
    "    while not done:\n",
    "        if done:\n",
    "            obs = env.reset()\n",
    "        env.render()\n",
    "        obs, reward, done, info = env.step(env.action_space.sample())\n",
    "        time.sleep(0.0003)\n",
    "        if reward > 0:\n",
    "            print(reward)"
   ]
  },
  {
   "cell_type": "markdown",
   "id": "8dca5fcc-b8b5-4502-a089-78f0140b084e",
   "metadata": {},
   "source": [
    "# Hyperparameter Tuning"
   ]
  },
  {
   "cell_type": "code",
   "execution_count": 14,
   "id": "307d15b4-694b-4442-b467-44584e04b780",
   "metadata": {},
   "outputs": [],
   "source": [
    "# The optimization framework - HPO\n",
    "import optuna\n",
    "# PPO algorithm for RL\n",
    "from stable_baselines3 import PPO\n",
    "# Allows us to test out and evaluate KPIs -- for metric calc\n",
    "from stable_baselines3.common.evaluation import evaluate_policy\n",
    "# sb3 monitor for logging\n",
    "from stable_baselines3.common.monitor import Monitor\n",
    "# vec wrappers to vectorize and framestack\n",
    "from stable_baselines3.common.vec_env import DummyVecEnv, VecFrameStack\n",
    "\n",
    "import os"
   ]
  },
  {
   "cell_type": "code",
   "execution_count": 15,
   "id": "6ab80c32-3fa9-4cae-ba6a-be7ab5254606",
   "metadata": {},
   "outputs": [],
   "source": [
    "LOG_DIR = \"./logs/\"\n",
    "OPT_DIR = \"./opt/\""
   ]
  },
  {
   "cell_type": "code",
   "execution_count": 16,
   "id": "25e56387-517c-4396-b9ad-120feb6c074f",
   "metadata": {},
   "outputs": [],
   "source": [
    "# Function to return test hyperparams -- define the objective function\n",
    "def optimize_ppo(trial):\n",
    "    return {\n",
    "        # Should be a factor of 64 or the batch size for the PPO algo\n",
    "        \"n_steps\": trial.suggest_int('n_steps', 2048, 8096),\n",
    "        # \"n_steps\": trial.suggest_int('n_steps', 2048, 8192),\n",
    "        \"gamma\": trial.suggest_loguniform('gamma', 0.8, 0.9999),\n",
    "        \"learning_rate\": trial.suggest_loguniform('learning_rate', 1e-5, 1e-4),\n",
    "        \"clip_range\": trial.suggest_uniform('clip_range', 0.1, 0.4),\n",
    "        \"gae_lambda\": trial.suggest_uniform('gae_lambda', 0.8, 0.99),\n",
    "    }"
   ]
  },
  {
   "cell_type": "code",
   "execution_count": 17,
   "id": "525c7a4a-7667-4e18-a7ec-a85ad215e573",
   "metadata": {},
   "outputs": [],
   "source": [
    "# Run a training Loop and return mean reward\n",
    "def optimize_agent(trial):\n",
    "    try:\n",
    "        model_params = optimize_ppo(trial)\n",
    "        \n",
    "        # Wrapping our environment in our SB3 Monitor, VecENv, and FrameStack\n",
    "        # The Monitor class is important if you're vectoring your environments\n",
    "        # as this allows you to log the mean ep reward and mean ep length\n",
    "        env = StreetFighter()\n",
    "        env = Monitor(env, LOG_DIR)\n",
    "        env = DummyVecEnv([lambda: env])\n",
    "        env = VecFrameStack(env, 4, channels_order='last')\n",
    "        \n",
    "        # Unpacking the model_params we get from optuna and passing it to our PPO model.\n",
    "        model = PPO(\"CnnPolicy\", env, tensorboard_log=LOG_DIR, verbose=0, **model_params)\n",
    "        model.learn(total_timesteps=30000)\n",
    "        \n",
    "        # Evaluate model \n",
    "        mean_reward, _ = evaluate_policy(model, env, n_eval_episodes=5)\n",
    "        env.close()\n",
    "        \n",
    "        SAVE_PATH = os.path.join(OPT_DIR, \"trial_{}_best_model\".format(trial.number))\n",
    "        model.save(SAVE_PATH)\n",
    "        \n",
    "        return mean_reward\n",
    "    \n",
    "    except Exception as e:\n",
    "        print(e)\n",
    "        return -1000"
   ]
  },
  {
   "cell_type": "code",
   "execution_count": 18,
   "id": "6a1d2e67-9aea-4faf-8350-6f48f84594cd",
   "metadata": {
    "collapsed": true,
    "jupyter": {
     "outputs_hidden": true
    },
    "tags": []
   },
   "outputs": [
    {
     "name": "stderr",
     "output_type": "stream",
     "text": [
      "\u001b[32m[I 2022-06-20 17:18:47,923]\u001b[0m A new study created in memory with name: no-name-20ee88d4-09cf-42a1-8c10-9f8d74ed5e67\u001b[0m\n",
      "/home/nick/proj/street-fighter-ai/venv/lib64/python3.7/site-packages/stable_baselines3/ppo/ppo.py:141: UserWarning: You have specified a mini-batch size of 64, but because the `RolloutBuffer` is of size `n_steps * n_envs = 5236`, after every 81 untruncated mini-batches, there will be a truncated mini-batch of size 52\n",
      "We recommend using a `batch_size` that is a factor of `n_steps * n_envs`.\n",
      "Info: (n_steps=5236 and n_envs=1)\n",
      "  f\"You have specified a mini-batch size of {batch_size},\"\n",
      "/home/nick/proj/street-fighter-ai/venv/lib64/python3.7/site-packages/stable_baselines3/common/save_util.py:276: UserWarning: Path 'opt' does not exist. Will create it.\n",
      "  warnings.warn(f\"Path '{path.parent}' does not exist. Will create it.\")\n",
      "\u001b[32m[I 2022-06-20 17:26:56,323]\u001b[0m Trial 0 finished with value: 1300.0 and parameters: {'n_steps': 5236, 'gamma': 0.958309011091822, 'learning_rate': 3.753492113619118e-05, 'clip_range': 0.286070488968583, 'gae_lambda': 0.8870575833616735}. Best is trial 0 with value: 1300.0.\u001b[0m\n",
      "/home/nick/proj/street-fighter-ai/venv/lib64/python3.7/site-packages/stable_baselines3/ppo/ppo.py:141: UserWarning: You have specified a mini-batch size of 64, but because the `RolloutBuffer` is of size `n_steps * n_envs = 7201`, after every 112 untruncated mini-batches, there will be a truncated mini-batch of size 33\n",
      "We recommend using a `batch_size` that is a factor of `n_steps * n_envs`.\n",
      "Info: (n_steps=7201 and n_envs=1)\n",
      "  f\"You have specified a mini-batch size of {batch_size},\"\n",
      "\u001b[32m[I 2022-06-20 17:36:39,093]\u001b[0m Trial 1 finished with value: 1000.0 and parameters: {'n_steps': 7201, 'gamma': 0.8991154937370388, 'learning_rate': 1.4991000236362131e-05, 'clip_range': 0.1732461570501994, 'gae_lambda': 0.8654904394555014}. Best is trial 0 with value: 1300.0.\u001b[0m\n",
      "/home/nick/proj/street-fighter-ai/venv/lib64/python3.7/site-packages/stable_baselines3/ppo/ppo.py:141: UserWarning: You have specified a mini-batch size of 64, but because the `RolloutBuffer` is of size `n_steps * n_envs = 6122`, after every 95 untruncated mini-batches, there will be a truncated mini-batch of size 42\n",
      "We recommend using a `batch_size` that is a factor of `n_steps * n_envs`.\n",
      "Info: (n_steps=6122 and n_envs=1)\n",
      "  f\"You have specified a mini-batch size of {batch_size},\"\n",
      "\u001b[32m[I 2022-06-20 17:45:53,310]\u001b[0m Trial 2 finished with value: 11200.0 and parameters: {'n_steps': 6122, 'gamma': 0.9877198464226749, 'learning_rate': 5.372243577492638e-05, 'clip_range': 0.24512514199723107, 'gae_lambda': 0.8443383875152853}. Best is trial 2 with value: 11200.0.\u001b[0m\n",
      "/home/nick/proj/street-fighter-ai/venv/lib64/python3.7/site-packages/stable_baselines3/ppo/ppo.py:141: UserWarning: You have specified a mini-batch size of 64, but because the `RolloutBuffer` is of size `n_steps * n_envs = 7244`, after every 113 untruncated mini-batches, there will be a truncated mini-batch of size 12\n",
      "We recommend using a `batch_size` that is a factor of `n_steps * n_envs`.\n",
      "Info: (n_steps=7244 and n_envs=1)\n",
      "  f\"You have specified a mini-batch size of {batch_size},\"\n",
      "\u001b[32m[I 2022-06-20 17:55:51,449]\u001b[0m Trial 3 finished with value: 0.0 and parameters: {'n_steps': 7244, 'gamma': 0.8176851087069859, 'learning_rate': 1.0709079509989738e-05, 'clip_range': 0.15744825632302517, 'gae_lambda': 0.9468342465719259}. Best is trial 2 with value: 11200.0.\u001b[0m\n",
      "/home/nick/proj/street-fighter-ai/venv/lib64/python3.7/site-packages/stable_baselines3/ppo/ppo.py:141: UserWarning: You have specified a mini-batch size of 64, but because the `RolloutBuffer` is of size `n_steps * n_envs = 4085`, after every 63 untruncated mini-batches, there will be a truncated mini-batch of size 53\n",
      "We recommend using a `batch_size` that is a factor of `n_steps * n_envs`.\n",
      "Info: (n_steps=4085 and n_envs=1)\n",
      "  f\"You have specified a mini-batch size of {batch_size},\"\n",
      "\u001b[32m[I 2022-06-20 18:03:55,669]\u001b[0m Trial 4 finished with value: 0.0 and parameters: {'n_steps': 4085, 'gamma': 0.8882763595851767, 'learning_rate': 2.06571016926056e-05, 'clip_range': 0.3435570356066333, 'gae_lambda': 0.9859945480912258}. Best is trial 2 with value: 11200.0.\u001b[0m\n",
      "/home/nick/proj/street-fighter-ai/venv/lib64/python3.7/site-packages/stable_baselines3/ppo/ppo.py:141: UserWarning: You have specified a mini-batch size of 64, but because the `RolloutBuffer` is of size `n_steps * n_envs = 7477`, after every 116 untruncated mini-batches, there will be a truncated mini-batch of size 53\n",
      "We recommend using a `batch_size` that is a factor of `n_steps * n_envs`.\n",
      "Info: (n_steps=7477 and n_envs=1)\n",
      "  f\"You have specified a mini-batch size of {batch_size},\"\n",
      "\u001b[32m[I 2022-06-20 18:11:44,286]\u001b[0m Trial 5 finished with value: 1600.0 and parameters: {'n_steps': 7477, 'gamma': 0.8446456609865274, 'learning_rate': 5.0784058917789e-05, 'clip_range': 0.30564318909205757, 'gae_lambda': 0.8380725563815531}. Best is trial 2 with value: 11200.0.\u001b[0m\n",
      "/home/nick/proj/street-fighter-ai/venv/lib64/python3.7/site-packages/stable_baselines3/ppo/ppo.py:141: UserWarning: You have specified a mini-batch size of 64, but because the `RolloutBuffer` is of size `n_steps * n_envs = 8078`, after every 126 untruncated mini-batches, there will be a truncated mini-batch of size 14\n",
      "We recommend using a `batch_size` that is a factor of `n_steps * n_envs`.\n",
      "Info: (n_steps=8078 and n_envs=1)\n",
      "  f\"You have specified a mini-batch size of {batch_size},\"\n",
      "\u001b[32m[I 2022-06-20 18:19:22,067]\u001b[0m Trial 6 finished with value: 1500.0 and parameters: {'n_steps': 8078, 'gamma': 0.8707133545479719, 'learning_rate': 9.870030071209216e-05, 'clip_range': 0.30223389576980214, 'gae_lambda': 0.910887982406996}. Best is trial 2 with value: 11200.0.\u001b[0m\n",
      "/home/nick/proj/street-fighter-ai/venv/lib64/python3.7/site-packages/stable_baselines3/ppo/ppo.py:141: UserWarning: You have specified a mini-batch size of 64, but because the `RolloutBuffer` is of size `n_steps * n_envs = 4112`, after every 64 untruncated mini-batches, there will be a truncated mini-batch of size 16\n",
      "We recommend using a `batch_size` that is a factor of `n_steps * n_envs`.\n",
      "Info: (n_steps=4112 and n_envs=1)\n",
      "  f\"You have specified a mini-batch size of {batch_size},\"\n",
      "\u001b[32m[I 2022-06-20 18:26:33,266]\u001b[0m Trial 7 finished with value: 2200.0 and parameters: {'n_steps': 4112, 'gamma': 0.9770076982031736, 'learning_rate': 1.7905816236558427e-05, 'clip_range': 0.24886686644774816, 'gae_lambda': 0.8983181682603444}. Best is trial 2 with value: 11200.0.\u001b[0m\n",
      "/home/nick/proj/street-fighter-ai/venv/lib64/python3.7/site-packages/stable_baselines3/ppo/ppo.py:141: UserWarning: You have specified a mini-batch size of 64, but because the `RolloutBuffer` is of size `n_steps * n_envs = 5379`, after every 84 untruncated mini-batches, there will be a truncated mini-batch of size 3\n",
      "We recommend using a `batch_size` that is a factor of `n_steps * n_envs`.\n",
      "Info: (n_steps=5379 and n_envs=1)\n",
      "  f\"You have specified a mini-batch size of {batch_size},\"\n",
      "\u001b[32m[I 2022-06-20 18:33:34,614]\u001b[0m Trial 8 finished with value: 5200.0 and parameters: {'n_steps': 5379, 'gamma': 0.82586357626955, 'learning_rate': 2.5046895630176204e-05, 'clip_range': 0.15914902424597768, 'gae_lambda': 0.9551759653743647}. Best is trial 2 with value: 11200.0.\u001b[0m\n",
      "/home/nick/proj/street-fighter-ai/venv/lib64/python3.7/site-packages/stable_baselines3/ppo/ppo.py:141: UserWarning: You have specified a mini-batch size of 64, but because the `RolloutBuffer` is of size `n_steps * n_envs = 2221`, after every 34 untruncated mini-batches, there will be a truncated mini-batch of size 45\n",
      "We recommend using a `batch_size` that is a factor of `n_steps * n_envs`.\n",
      "Info: (n_steps=2221 and n_envs=1)\n",
      "  f\"You have specified a mini-batch size of {batch_size},\"\n",
      "\u001b[32m[I 2022-06-20 18:41:34,146]\u001b[0m Trial 9 finished with value: 2100.0 and parameters: {'n_steps': 2221, 'gamma': 0.8967793299345571, 'learning_rate': 2.8556029625354482e-05, 'clip_range': 0.1472346858227519, 'gae_lambda': 0.926192556017543}. Best is trial 2 with value: 11200.0.\u001b[0m\n"
     ]
    }
   ],
   "source": [
    "# Creating the experiment\n",
    "env.close()\n",
    "study = optuna.create_study(direction=\"maximize\")\n",
    "study.optimize(optimize_agent, n_trials=10, n_jobs=1)"
   ]
  },
  {
   "cell_type": "code",
   "execution_count": 19,
   "id": "37c0d78f-ce31-4f94-aba2-b6993bb7220b",
   "metadata": {},
   "outputs": [
    {
     "data": {
      "text/plain": [
       "{'n_steps': 6122,\n",
       " 'gamma': 0.9877198464226749,\n",
       " 'learning_rate': 5.372243577492638e-05,\n",
       " 'clip_range': 0.24512514199723107,\n",
       " 'gae_lambda': 0.8443383875152853}"
      ]
     },
     "execution_count": 19,
     "metadata": {},
     "output_type": "execute_result"
    }
   ],
   "source": [
    "study.best_params"
   ]
  },
  {
   "cell_type": "code",
   "execution_count": 31,
   "id": "34f1960e-2713-42a2-be84-6157c0b0c3cd",
   "metadata": {},
   "outputs": [
    {
     "data": {
      "text/plain": [
       "FrozenTrial(number=2, values=[11200.0], datetime_start=datetime.datetime(2022, 6, 20, 17, 36, 39, 94119), datetime_complete=datetime.datetime(2022, 6, 20, 17, 45, 53, 310438), params={'n_steps': 6122, 'gamma': 0.9877198464226749, 'learning_rate': 5.372243577492638e-05, 'clip_range': 0.24512514199723107, 'gae_lambda': 0.8443383875152853}, distributions={'n_steps': IntUniformDistribution(high=8192, low=2048, step=1), 'gamma': LogUniformDistribution(high=0.9999, low=0.8), 'learning_rate': LogUniformDistribution(high=0.0001, low=1e-05), 'clip_range': UniformDistribution(high=0.4, low=0.1), 'gae_lambda': UniformDistribution(high=0.99, low=0.8)}, user_attrs={}, system_attrs={}, intermediate_values={}, trial_id=2, state=TrialState.COMPLETE, value=None)"
      ]
     },
     "execution_count": 31,
     "metadata": {},
     "output_type": "execute_result"
    }
   ],
   "source": [
    "study.best_trial"
   ]
  },
  {
   "cell_type": "code",
   "execution_count": 30,
   "id": "d85d61e9-1068-4318-a7f5-83c54d1ba73a",
   "metadata": {},
   "outputs": [],
   "source": [
    "model = PPO.load(os.path.join(OPT_DIR, \"trial_{}_best_model.zip\".format(study.best_trial.number)))"
   ]
  },
  {
   "cell_type": "markdown",
   "id": "cf331501-29e9-47ca-a90b-02b50596e84e",
   "metadata": {},
   "source": [
    "# Setup Callback"
   ]
  },
  {
   "cell_type": "code",
   "execution_count": 32,
   "id": "8fbfda4f-f88c-4481-8efb-f710b3b2e53a",
   "metadata": {},
   "outputs": [],
   "source": [
    "# Import base callback \n",
    "from stable_baselines3.common.callbacks import BaseCallback"
   ]
  },
  {
   "cell_type": "code",
   "execution_count": 33,
   "id": "e0bbe625-e189-420d-8404-342dde8c63c5",
   "metadata": {},
   "outputs": [],
   "source": [
    "class TrainAndLoggingCallback(BaseCallback):\n",
    "\n",
    "    def __init__(self, check_freq, save_path, verbose=1):\n",
    "        super(TrainAndLoggingCallback, self).__init__(verbose)\n",
    "        self.check_freq = check_freq\n",
    "        self.save_path = save_path\n",
    "\n",
    "    def _init_callback(self):\n",
    "        if self.save_path is not None:\n",
    "            os.makedirs(self.save_path, exist_ok=True)\n",
    "\n",
    "    def _on_step(self):\n",
    "        if self.n_calls % self.check_freq == 0:\n",
    "            model_path = os.path.join(self.save_path, 'best_model_{}'.format(self.n_calls))\n",
    "            self.model.save(model_path)\n",
    "\n",
    "        return True"
   ]
  },
  {
   "cell_type": "code",
   "execution_count": 34,
   "id": "a54b67d8-84c4-4617-b5fb-17df1baaa372",
   "metadata": {},
   "outputs": [],
   "source": [
    "CHECKPOINT_DIR = './train/'"
   ]
  },
  {
   "cell_type": "code",
   "execution_count": 36,
   "id": "9f3a2e7b-e5a4-4428-ad9c-5f075259e5be",
   "metadata": {},
   "outputs": [],
   "source": [
    "# check_freq determines how many steps before the model is saved\n",
    "callback = TrainAndLoggingCallback(check_freq=10000, save_path=CHECKPOINT_DIR)"
   ]
  },
  {
   "cell_type": "markdown",
   "id": "1aa04b8b-7957-440a-a1c6-b090d0075e57",
   "metadata": {},
   "source": [
    "# Train Model"
   ]
  },
  {
   "cell_type": "code",
   "execution_count": 54,
   "id": "012904f8-9ecb-4e34-9a9f-d4f6434551c0",
   "metadata": {},
   "outputs": [],
   "source": [
    "try:\n",
    "    env.close()\n",
    "except:\n",
    "    pass\n",
    "env = StreetFighter()\n",
    "env = Monitor(env, LOG_DIR)\n",
    "env = DummyVecEnv([lambda: env])\n",
    "env = VecFrameStack(env, 4, channels_order='last')"
   ]
  },
  {
   "cell_type": "code",
   "execution_count": 56,
   "id": "e38d8970-d4f4-4c60-a0ad-421a895d2c87",
   "metadata": {},
   "outputs": [],
   "source": [
    "model_params = study.best_params\n",
    "# A consequence of not using num steps divisible by batch size (64)\n",
    "model_params[\"n_steps\"] = 7488\n",
    "# You could slow down the learning rate here to improve learning"
   ]
  },
  {
   "cell_type": "code",
   "execution_count": 62,
   "id": "3a362246-9b4c-4775-8bee-e02dbfbde105",
   "metadata": {},
   "outputs": [
    {
     "name": "stdout",
     "output_type": "stream",
     "text": [
      "Using cpu device\n",
      "Wrapping the env in a VecTransposeImage.\n"
     ]
    }
   ],
   "source": [
    "model = PPO(\"CnnPolicy\", env, tensorboard_log=LOG_DIR, verbose=1, **model_params)"
   ]
  },
  {
   "cell_type": "code",
   "execution_count": 63,
   "id": "a94466de-6cc9-4a39-b75f-0f885ea16576",
   "metadata": {},
   "outputs": [
    {
     "data": {
      "text/plain": [
       "<stable_baselines3.ppo.ppo.PPO at 0x7f4f80590790>"
      ]
     },
     "execution_count": 63,
     "metadata": {},
     "output_type": "execute_result"
    }
   ],
   "source": [
    "model.load(os.path.join(OPT_DIR, \"trial_{}_best_model.zip\".format(study.best_trial.number)))"
   ]
  },
  {
   "cell_type": "code",
   "execution_count": 64,
   "id": "f22900a2-841c-40bc-a709-52366865e586",
   "metadata": {},
   "outputs": [
    {
     "name": "stdout",
     "output_type": "stream",
     "text": [
      "Logging to ./logs/PPO_15\n",
      "-----------------------------\n",
      "| time/              |      |\n",
      "|    fps             | 384  |\n",
      "|    iterations      | 1    |\n",
      "|    time_elapsed    | 19   |\n",
      "|    total_timesteps | 7488 |\n",
      "-----------------------------\n",
      "-----------------------------------------\n",
      "| time/                   |             |\n",
      "|    fps                  | 146         |\n",
      "|    iterations           | 2           |\n",
      "|    time_elapsed         | 102         |\n",
      "|    total_timesteps      | 14976       |\n",
      "| train/                  |             |\n",
      "|    approx_kl            | 0.029442988 |\n",
      "|    clip_fraction        | 0.163       |\n",
      "|    clip_range           | 0.245       |\n",
      "|    entropy_loss         | -8.3        |\n",
      "|    explained_variance   | 2.75e-05    |\n",
      "|    learning_rate        | 5.37e-05    |\n",
      "|    loss                 | 168         |\n",
      "|    n_updates            | 10          |\n",
      "|    policy_gradient_loss | -0.000411   |\n",
      "|    value_loss           | 9.43e+04    |\n",
      "-----------------------------------------\n",
      "-----------------------------------------\n",
      "| rollout/                |             |\n",
      "|    ep_len_mean          | 1.05e+04    |\n",
      "|    ep_rew_mean          | 2.50e+04    |\n",
      "| time/                   |             |\n",
      "|    fps                  | 126         |\n",
      "|    iterations           | 3           |\n",
      "|    time_elapsed         | 177         |\n",
      "|    total_timesteps      | 22464       |\n",
      "| train/                  |             |\n",
      "|    approx_kl            | 0.040811885 |\n",
      "|    clip_fraction        | 0.352       |\n",
      "|    clip_range           | 0.245       |\n",
      "|    entropy_loss         | -8.24       |\n",
      "|    explained_variance   | 0.0153      |\n",
      "|    learning_rate        | 5.37e-05    |\n",
      "|    loss                 | 31.7        |\n",
      "|    n_updates            | 20          |\n",
      "|    policy_gradient_loss | 0.0101      |\n",
      "|    value_loss           | 1.11e+04    |\n",
      "-----------------------------------------\n",
      "----------------------------------------\n",
      "| rollout/                |            |\n",
      "|    ep_len_mean          | 1.05e+04   |\n",
      "|    ep_rew_mean          | 2.50e+04   |\n",
      "| time/                   |            |\n",
      "|    fps                  | 117        |\n",
      "|    iterations           | 4          |\n",
      "|    time_elapsed         | 254        |\n",
      "|    total_timesteps      | 29952      |\n",
      "| train/                  |            |\n",
      "|    approx_kl            | 0.08774368 |\n",
      "|    clip_fraction        | 0.341      |\n",
      "|    clip_range           | 0.245      |\n",
      "|    entropy_loss         | -8.23      |\n",
      "|    explained_variance   | 0.0476     |\n",
      "|    learning_rate        | 5.37e-05   |\n",
      "|    loss                 | 678        |\n",
      "|    n_updates            | 30         |\n",
      "|    policy_gradient_loss | 0.0143     |\n",
      "|    value_loss           | 1.58e+03   |\n",
      "----------------------------------------\n",
      "---------------------------------------\n",
      "| rollout/                |           |\n",
      "|    ep_len_mean          | 1.01e+04  |\n",
      "|    ep_rew_mean          | 2.29e+04  |\n",
      "| time/                   |           |\n",
      "|    fps                  | 114       |\n",
      "|    iterations           | 5         |\n",
      "|    time_elapsed         | 327       |\n",
      "|    total_timesteps      | 37440     |\n",
      "| train/                  |           |\n",
      "|    approx_kl            | 0.0526962 |\n",
      "|    clip_fraction        | 0.291     |\n",
      "|    clip_range           | 0.245     |\n",
      "|    entropy_loss         | -8.15     |\n",
      "|    explained_variance   | 0.0291    |\n",
      "|    learning_rate        | 5.37e-05  |\n",
      "|    loss                 | 3.37e+03  |\n",
      "|    n_updates            | 40        |\n",
      "|    policy_gradient_loss | 0.00766   |\n",
      "|    value_loss           | 2.03e+04  |\n",
      "---------------------------------------\n"
     ]
    },
    {
     "data": {
      "text/plain": [
       "<stable_baselines3.ppo.ppo.PPO at 0x7f4e5c97c390>"
      ]
     },
     "execution_count": 64,
     "metadata": {},
     "output_type": "execute_result"
    }
   ],
   "source": [
    "model.learn(total_timesteps=30000, callback=callback)"
   ]
  },
  {
   "cell_type": "markdown",
   "id": "96b0ff19-096c-4934-9a05-8a38d071aee4",
   "metadata": {},
   "source": [
    "# Evaluate Model"
   ]
  },
  {
   "cell_type": "code",
   "execution_count": 91,
   "id": "7c640516-3c69-43cc-be28-76d644e5d07a",
   "metadata": {},
   "outputs": [],
   "source": [
    "# model = PPO.load('./train/best_model_5460000.zip')\n",
    "model = PPO.load('./opt/trial_2_best_model.zip')\n",
    "# model = PPO.load('./opt/trial_24_best_model.zip')"
   ]
  },
  {
   "cell_type": "code",
   "execution_count": null,
   "id": "7152c539-984c-44e0-8c0b-c325224dbfc0",
   "metadata": {
    "tags": []
   },
   "outputs": [],
   "source": [
    "mean_reward, _ = evaluate_policy(model, env, render=True, n_eval_episodes=5)"
   ]
  },
  {
   "cell_type": "markdown",
   "id": "0bc41929-18c1-4dd0-b497-a354f7456cb9",
   "metadata": {},
   "source": [
    "# Test out the Model"
   ]
  },
  {
   "cell_type": "code",
   "execution_count": 92,
   "id": "196de507-ae5e-46c6-a4e6-dab9a1d46dc9",
   "metadata": {},
   "outputs": [],
   "source": [
    "obs = env.reset()"
   ]
  },
  {
   "cell_type": "code",
   "execution_count": 93,
   "id": "43fd5f02-6c7e-409c-94db-bce3e08541a9",
   "metadata": {},
   "outputs": [
    {
     "data": {
      "text/plain": [
       "(1, 84, 84, 4)"
      ]
     },
     "execution_count": 93,
     "metadata": {},
     "output_type": "execute_result"
    }
   ],
   "source": [
    "obs.shape"
   ]
  },
  {
   "cell_type": "code",
   "execution_count": 94,
   "id": "599e4109-b89a-4571-be81-ed3125c8677d",
   "metadata": {},
   "outputs": [
    {
     "name": "stdout",
     "output_type": "stream",
     "text": [
      "[500.]\n",
      "[1000.]\n",
      "[300.]\n"
     ]
    },
    {
     "ename": "KeyboardInterrupt",
     "evalue": "",
     "output_type": "error",
     "traceback": [
      "\u001b[0;31m---------------------------------------------------------------------------\u001b[0m",
      "\u001b[0;31mKeyboardInterrupt\u001b[0m                         Traceback (most recent call last)",
      "\u001b[0;32m/tmp/ipykernel_71967/2405853301.py\u001b[0m in \u001b[0;36m<module>\u001b[0;34m\u001b[0m\n\u001b[1;32m     12\u001b[0m         \u001b[0maction\u001b[0m \u001b[0;34m=\u001b[0m \u001b[0mmodel\u001b[0m\u001b[0;34m.\u001b[0m\u001b[0mpredict\u001b[0m\u001b[0;34m(\u001b[0m\u001b[0mobs\u001b[0m\u001b[0;34m)\u001b[0m\u001b[0;34m[\u001b[0m\u001b[0;36m0\u001b[0m\u001b[0;34m]\u001b[0m\u001b[0;34m\u001b[0m\u001b[0;34m\u001b[0m\u001b[0m\n\u001b[1;32m     13\u001b[0m         \u001b[0mobs\u001b[0m\u001b[0;34m,\u001b[0m \u001b[0mreward\u001b[0m\u001b[0;34m,\u001b[0m \u001b[0mdone\u001b[0m\u001b[0;34m,\u001b[0m \u001b[0minfo\u001b[0m \u001b[0;34m=\u001b[0m \u001b[0menv\u001b[0m\u001b[0;34m.\u001b[0m\u001b[0mstep\u001b[0m\u001b[0;34m(\u001b[0m\u001b[0maction\u001b[0m\u001b[0;34m)\u001b[0m\u001b[0;34m\u001b[0m\u001b[0;34m\u001b[0m\u001b[0m\n\u001b[0;32m---> 14\u001b[0;31m         \u001b[0mtime\u001b[0m\u001b[0;34m.\u001b[0m\u001b[0msleep\u001b[0m\u001b[0;34m(\u001b[0m\u001b[0;36m0.01\u001b[0m\u001b[0;34m)\u001b[0m\u001b[0;34m\u001b[0m\u001b[0;34m\u001b[0m\u001b[0m\n\u001b[0m\u001b[1;32m     15\u001b[0m         \u001b[0;32mif\u001b[0m \u001b[0mreward\u001b[0m \u001b[0;34m>\u001b[0m \u001b[0;36m0\u001b[0m\u001b[0;34m:\u001b[0m\u001b[0;34m\u001b[0m\u001b[0;34m\u001b[0m\u001b[0m\n\u001b[1;32m     16\u001b[0m             \u001b[0mprint\u001b[0m\u001b[0;34m(\u001b[0m\u001b[0mreward\u001b[0m\u001b[0;34m)\u001b[0m\u001b[0;34m\u001b[0m\u001b[0;34m\u001b[0m\u001b[0m\n",
      "\u001b[0;31mKeyboardInterrupt\u001b[0m: "
     ]
    }
   ],
   "source": [
    "# Reset game to starting state.\n",
    "obs = env.reset()\n",
    "\n",
    "# Did we die/game over?\n",
    "done = False\n",
    "\n",
    "for game in range(1):\n",
    "    while not done:\n",
    "        if done:\n",
    "            obs = env.reset()\n",
    "        env.render()\n",
    "        action = model.predict(obs)[0]\n",
    "        obs, reward, done, info = env.step(action)\n",
    "        time.sleep(0.01)\n",
    "        if reward > 0:\n",
    "            print(reward)"
   ]
  },
  {
   "cell_type": "code",
   "execution_count": null,
   "id": "5b54e7b2-c8f3-4ef4-be92-913678b1c6df",
   "metadata": {},
   "outputs": [],
   "source": []
  }
 ],
 "metadata": {
  "kernelspec": {
   "display_name": "Python 3 (ipykernel)",
   "language": "python",
   "name": "python3"
  },
  "language_info": {
   "codemirror_mode": {
    "name": "ipython",
    "version": 3
   },
   "file_extension": ".py",
   "mimetype": "text/x-python",
   "name": "python",
   "nbconvert_exporter": "python",
   "pygments_lexer": "ipython3",
   "version": "3.7.13"
  }
 },
 "nbformat": 4,
 "nbformat_minor": 5
}
